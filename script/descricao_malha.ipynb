{
 "cells": [
  {
   "cell_type": "code",
   "execution_count": null,
   "source": [
    "import xmltodict\n",
    "import numpy as np\n",
    "import pandas as pd\n",
    "import matplotlib.pyplot as plt\n",
    "import xml.etree.ElementTree as ET\n",
    "from datetime import datetime\n",
    "\n",
    "pd.options.display.max_rows = 99\n",
    "\n",
    "arquivo_add = str(datetime.now())[-6:]\n"
   ],
   "outputs": [],
   "metadata": {}
  },
  {
   "cell_type": "markdown",
   "source": [
    "# Malha"
   ],
   "metadata": {}
  },
  {
   "cell_type": "code",
   "execution_count": null,
   "source": [
    "with open('malha.net.xml', 'rb') as f:\n",
    "    malha_xml = xmltodict.parse(\n",
    "        f, attr_prefix='', cdata_key='', dict_constructor=dict)\n"
   ],
   "outputs": [],
   "metadata": {}
  },
  {
   "cell_type": "code",
   "execution_count": null,
   "source": [
    "malha_viaria = []\n",
    "\n",
    "for attr in malha_xml['net']['edge']:\n",
    "    malha_viaria.append([attr['id'], attr['name'], attr['priority'],\n",
    "                         attr['param'][0]['value'], attr['param'][1]['value']])\n",
    "\n",
    "malha = pd.DataFrame(malha_viaria, columns=[\n",
    "                     'id', 'name', 'priority', 'vmax', 'vmin'])\n",
    "\n",
    "malha.sort_values('priority', inplace=True, ascending=False)\n",
    "malha[['priority', 'vmax', 'vmin']] = malha[[\n",
    "    'priority', 'vmax', 'vmin']].apply(pd.to_numeric)\n",
    "\n",
    "malha.head()\n"
   ],
   "outputs": [],
   "metadata": {}
  },
  {
   "cell_type": "markdown",
   "source": [
    "# Rotas e demandas"
   ],
   "metadata": {}
  },
  {
   "cell_type": "code",
   "execution_count": null,
   "source": [
    "with open('demanda.rou.xml', 'rb') as f:\n",
    "    dem_xml = xmltodict.parse(\n",
    "        f, attr_prefix='', cdata_key='', dict_constructor=dict)\n",
    "\n",
    "# print(json.dumps(dem_xml['routes']['route'], indent=4, ensure_ascii=False))"
   ],
   "outputs": [],
   "metadata": {}
  },
  {
   "cell_type": "code",
   "execution_count": null,
   "source": [
    "rotas = pd.DataFrame(dem_xml['routes']['route'])\n",
    "\n",
    "rotas.drop(columns=['color'], inplace=True)\n",
    "\n",
    "rotas.head()"
   ],
   "outputs": [],
   "metadata": {}
  },
  {
   "cell_type": "code",
   "execution_count": null,
   "source": [
    "demandas = pd.DataFrame(dem_xml['routes']['flow'])\n",
    "\n",
    "demandas.head(25)"
   ],
   "outputs": [],
   "metadata": {}
  },
  {
   "cell_type": "code",
   "execution_count": null,
   "source": [
    "demandas.loc[demandas['route'] == 'route_0']['number'].values[0]"
   ],
   "outputs": [],
   "metadata": {}
  },
  {
   "cell_type": "markdown",
   "source": [
    "# Resultados da simulação"
   ],
   "metadata": {}
  },
  {
   "cell_type": "code",
   "execution_count": null,
   "source": [
    "result_sumo = pd.read_csv('full.output.csv', sep=';')"
   ],
   "outputs": [],
   "metadata": {}
  },
  {
   "cell_type": "code",
   "execution_count": null,
   "source": [
    "result_sumo['vehicle_edge'] = result_sumo['vehicle_lane'].str.split(\n",
    "    '_').str[0]\n",
    "\n",
    "veics_sumo = result_sumo[result_sumo['vehicle_route'].notnull(\n",
    ")][['data_timestep', 'vehicle_route', 'vehicle_edge', 'vehicle_speed']]\n",
    "\n",
    "veic_sumo = veics_sumo.groupby(['vehicle_route', 'vehicle_edge'], as_index=False)[\n",
    "    'vehicle_speed'].median()\n",
    "\n",
    "veic_sumo.head()\n"
   ],
   "outputs": [],
   "metadata": {}
  },
  {
   "cell_type": "markdown",
   "source": [
    "# Detectores"
   ],
   "metadata": {}
  },
  {
   "cell_type": "code",
   "execution_count": null,
   "source": [
    "tree_add = ET.parse('adicionais.xml')\n",
    "root_add = tree_add.getroot()\n",
    "\n",
    "b2tf_add = root_add.findall('./e1Detector')\n",
    "\n",
    "addicional_atual = b2tf_add[0].attrib['file']\n",
    "\n",
    "with open(addicional_atual, 'rb') as f:\n",
    "    detect = xmltodict.parse(\n",
    "        f, attr_prefix='', cdata_key='', dict_constructor=dict)"
   ],
   "outputs": [],
   "metadata": {}
  },
  {
   "cell_type": "code",
   "execution_count": null,
   "source": [
    "detec_list = []\n",
    "\n",
    "for attr in detect['detector']['interval']:\n",
    "    detec_list.append(\n",
    "        [attr['id'], float(attr['speed']), int(attr['nVehEntered'])])\n",
    "\n",
    "detectores = pd.DataFrame(detec_list, columns=[\n",
    "    'name', 'speed', 'nVehEntered'])\n",
    "\n",
    "detectores['id'] = detectores['name'].str.split('_').str[1]\n"
   ],
   "outputs": [],
   "metadata": {}
  },
  {
   "cell_type": "code",
   "execution_count": null,
   "source": [
    "detectores_gb = detectores.groupby(['id']).agg({'speed':'median', 'nVehEntered':'sum'}).reset_index()"
   ],
   "outputs": [],
   "metadata": {}
  },
  {
   "cell_type": "code",
   "execution_count": null,
   "source": [
    "detectores_malha = pd.merge(\n",
    "    detectores_gb, malha, how='left', on=['id']).reset_index()\n",
    "result_sumo.head()"
   ],
   "outputs": [],
   "metadata": {}
  },
  {
   "cell_type": "code",
   "execution_count": null,
   "source": [
    "def comparar_vels(x):\n",
    "    if x['speed'] > x['vmax']:\n",
    "        return x['speed'] - x['vmax']\n",
    "    elif x['speed'] < x['vmin']:\n",
    "        return x['speed'] - x['vmin']\n",
    "    else:\n",
    "        return 0\n",
    "\n",
    "detectores_malha['dif'] = detectores_malha.apply(comparar_vels, axis=1)\n"
   ],
   "outputs": [],
   "metadata": {}
  },
  {
   "cell_type": "code",
   "execution_count": null,
   "source": [
    "detectores_malha.head(25)"
   ],
   "outputs": [],
   "metadata": {}
  },
  {
   "cell_type": "markdown",
   "source": [
    "# resultados por rota"
   ],
   "metadata": {}
  },
  {
   "cell_type": "code",
   "execution_count": null,
   "source": [
    "rotas_det = {}\n",
    "detect_edges = set(detectores_malha['id'])\n",
    "\n",
    "for idx, row in rotas.iterrows():\n",
    "    rotas_det[row['id']] = {\n",
    "        'priority': malha.loc[malha['id'] == row['edges'].split()[0]]['priority'].values[0],\n",
    "        'edge': [],\n",
    "        'vmax': [],\n",
    "        'vmin': [],\n",
    "        'sumo': [],\n",
    "        'demanda_atrib': None,\n",
    "        'sumo_sensor_speed1': None,\n",
    "        'sumo_sensor_speed2': None,\n",
    "        'vmax_sensor1': None,\n",
    "        'vmax_sensor2': None,\n",
    "        'vmin_sensor1': None,\n",
    "        'vmin_sensor2': None,\n",
    "        'sensor_edge1': None,\n",
    "        'sensor_edge2': None,\n",
    "        'sensor_speed1': None,\n",
    "        'sensor_speed2': None,\n",
    "        'sensor_veic1':  None,\n",
    "        'sensor_veic2':  None,\n",
    "        'demand_num': None\n",
    "    }\n",
    "\n",
    "    demanda_xml = int(\n",
    "        demandas.loc[demandas['route'] == row['id']]['number'].values[0])\n",
    "    print(demanda_xml)\n",
    "\n",
    "    rotas_det[row['id']]['demanda_atrib'] = demanda_xml\n",
    "    rotas_det[row['id']]['demand_num'] = demanda_xml\n",
    "\n",
    "    for edge in row['edges'].split():\n",
    "        rotas_det[row['id']]['edge'].append(edge)\n",
    "        vmax = malha[malha['id'] == edge]['vmax'].values[0]\n",
    "        rotas_det[row['id']]['vmax'].append(vmax)\n",
    "        vmin = malha[malha['id'] == edge]['vmin'].values[0]\n",
    "        rotas_det[row['id']]['vmin'].append(vmin)\n",
    "        speed_sumo = veic_sumo[veic_sumo['vehicle_edge']\n",
    "                               == edge]['vehicle_speed'].values[0]\n",
    "        rotas_det[row['id']]['sumo'].append(speed_sumo)\n",
    "\n",
    "        if edge in detect_edges:\n",
    "            detector_edge = detectores_malha[detectores_malha['id']\n",
    "                                             == edge]['id'].values[0]\n",
    "\n",
    "            if edge == detector_edge and rotas_det[row['id']]['sensor_edge1'] == None:\n",
    "                rotas_det[row['id']]['sensor_speed1'] = detectores_malha[detectores_malha['id']\n",
    "                                                                         == edge]['speed'].values[0]\n",
    "                rotas_det[row['id']]['sensor_veic1'] = detectores_malha[detectores_malha['id']\n",
    "                                                                        == edge]['nVehEntered'].values[0]\n",
    "                rotas_det[row['id']]['sensor_edge1'] = detector_edge\n",
    "\n",
    "                rotas_det[row['id']]['sumo_sensor_speed1'] = speed_sumo\n",
    "                rotas_det[row['id']]['vmax_sensor1'] = vmax\n",
    "                rotas_det[row['id']]['vmin_sensor1'] = vmin\n",
    "\n",
    "            elif edge == detector_edge:\n",
    "                rotas_det[row['id']]['sensor_speed2'] = detectores_malha[detectores_malha['id']\n",
    "                                                                         == edge]['speed'].values[0]\n",
    "                rotas_det[row['id']]['sensor_veic2'] = detectores_malha[detectores_malha['id']\n",
    "                                                                        == edge]['nVehEntered'].values[0]\n",
    "                rotas_det[row['id']]['sendor_edge2'] = detector_edge\n",
    "\n",
    "                rotas_det[row['id']]['sumo_sensor_speed2'] = speed_sumo\n",
    "                rotas_det[row['id']]['vmax_sensor2'] = vmax\n",
    "                rotas_det[row['id']]['vmin_sensor2'] = vmin\n"
   ],
   "outputs": [],
   "metadata": {}
  },
  {
   "cell_type": "code",
   "execution_count": null,
   "source": [
    "rotas_det.keys()"
   ],
   "outputs": [],
   "metadata": {}
  },
  {
   "cell_type": "code",
   "execution_count": null,
   "source": [
    "rotas_det['route_14']"
   ],
   "outputs": [],
   "metadata": {}
  },
  {
   "cell_type": "markdown",
   "source": [
    "## Gráfico com a progressão da rota na simulação / velocidade máxima e mínima esperada."
   ],
   "metadata": {}
  },
  {
   "cell_type": "code",
   "execution_count": null,
   "source": [
    "rota_plot = pd.DataFrame.from_dict(rotas_det['route_12'])\n",
    "rota_plot_label1 = f\"vel.sensor edge: {rota_plot['sensor_edge1'].values[0]}\"\n",
    "rota_plot_label2 = f\"vel.sensor edge: {rota_plot['sensor_edge2'].values[0]}\"\n",
    "col = rota_plot.loc[:, 'vmax':'vmin']\n",
    "plt.plot('edge', 'sumo', label='vel.sumo', c='red', data=rota_plot)\n",
    "plt.plot('edge', 'sensor_speed1', label=rota_plot_label1,\n",
    "         c='black', linestyle=\"--\", data=rota_plot)\n",
    "plt.plot('edge', 'sensor_speed2', label=rota_plot_label2,\n",
    "         c='green', linestyle=\"--\", data=rota_plot)\n",
    "plt.fill_between(x='edge', y1='vmin', y2='vmax', data=rota_plot)\n",
    "plt.legend()\n",
    "plt.show()\n"
   ],
   "outputs": [],
   "metadata": {}
  },
  {
   "cell_type": "code",
   "execution_count": null,
   "source": [
    "fig = plt.figure(figsize=(30, 25))\n",
    "fig.subplots_adjust(hspace=.4, wspace=.1)\n",
    "\n",
    "for idx, rota in enumerate(rotas_det.keys()):\n",
    "    rota_plot = pd.DataFrame.from_dict(rotas_det[rota])\n",
    "    rota_plot_label1 = f\"vel.sensor edge: {rota_plot['sensor_edge1'].values[0]}\"\n",
    "    rota_plot_label2 = f\"vel.sensor edge: {rota_plot['sensor_edge2'].values[0]}\"\n",
    "    fig.add_subplot(6, 4, idx+1)\n",
    "    plt.plot('edge', 'sumo', label='vel.sumo', c='red', data=rota_plot)\n",
    "    plt.plot('edge', 'sensor_speed1', label=rota_plot_label1,\n",
    "             c='black', linestyle=\"--\", data=rota_plot)\n",
    "    plt.plot('edge', 'sensor_speed2', label=rota_plot_label2,\n",
    "             c='green', linestyle=\"--\", data=rota_plot)\n",
    "    #rota_plot.plot(x='edge', y='sumo', c='red', ax=ax)\n",
    "    plt.fill_between(x='edge', y1='vmin', y2='vmax', data=rota_plot)\n",
    "    plt.legend(loc=4)\n",
    "    plt.title(rota)\n",
    "\n",
    "# plt.savefig(f'resultados/plots/{arquivo_add}.png')\n",
    "plt.show\n"
   ],
   "outputs": [],
   "metadata": {}
  },
  {
   "cell_type": "markdown",
   "source": [
    "## novos valores rota, prioridade 4 (máxima encontrada no início de uma rota)\n",
    "\n",
    "Alterações no número de veículos próxima simulação"
   ],
   "metadata": {}
  },
  {
   "cell_type": "code",
   "execution_count": null,
   "source": [
    "malha['priority'].unique()"
   ],
   "outputs": [],
   "metadata": {}
  },
  {
   "cell_type": "code",
   "execution_count": null,
   "source": [
    "for chave, valor in rotas_det.items():\n",
    "    sumo_sensor_speed1 = valor['sumo_sensor_speed1']\n",
    "    vmax_sensor1 = valor['vmax_sensor1']\n",
    "    sumo_sensor_speed2 = valor['sumo_sensor_speed2']\n",
    "    vmax_sensor2 = valor['vmax_sensor2']\n",
    "    demanda_atrib = valor['demanda_atrib']\n",
    "    print(\n",
    "        f'route:{chave}, prioridade:{valor[\"priority\"]}, sumo_sensor_speed1:{sumo_sensor_speed1}, vmax_sensor1:{vmax_sensor1}')\n",
    "\n",
    "    if valor['priority'] == 4 and sumo_sensor_speed1 > vmax_sensor1:\n",
    "        rotas_det[chave]['demand_num'] = np.ceil(demanda_atrib +\n",
    "                                                 ((abs(np.floor(valor['sumo_sensor_speed1']) - np.ceil(valor['vmax_sensor1'])) +\n",
    "                                                   abs(np.floor(valor['sumo_sensor_speed2']) - np.ceil(valor['vmax_sensor2'])))*10))\n",
    "        print(\n",
    "            f'prioridade4: {demanda_atrib} -> {rotas_det[chave][\"demand_num\"]}')\n",
    "\n",
    "    if valor['priority'] == 3 and sumo_sensor_speed1 > vmax_sensor1:\n",
    "        rotas_det[chave]['demand_num'] = np.ceil(demanda_atrib +\n",
    "                                                 ((abs(np.floor(valor['sumo_sensor_speed1']) - np.ceil(valor['vmax_sensor1'])) +\n",
    "                                                   abs(np.floor(valor['sumo_sensor_speed2']) - np.ceil(valor['vmax_sensor2'])))*3))\n",
    "        print(\n",
    "            f'prioridade3: {demanda_atrib} -> {rotas_det[chave][\"demand_num\"]}')\n",
    "\n",
    "    if valor['priority'] == 1 and sumo_sensor_speed1 > vmax_sensor1:\n",
    "        rotas_det[chave]['demand_num'] = np.ceil(demanda_atrib +\n",
    "                                                 ((abs(np.floor(valor['sumo_sensor_speed1']) - np.ceil(valor['vmax_sensor1'])) +\n",
    "                                                   abs(np.floor(valor['sumo_sensor_speed2']) - np.ceil(valor['vmax_sensor2'])))*2))\n",
    "        print(\n",
    "            f'prioridade4: {demanda_atrib} -> {rotas_det[chave][\"demand_num\"]}')\n"
   ],
   "outputs": [],
   "metadata": {}
  },
  {
   "cell_type": "markdown",
   "source": [
    "## Salvando novo xml (teste 1)\n",
    "\n",
    "dem_xml"
   ],
   "metadata": {}
  },
  {
   "cell_type": "code",
   "execution_count": null,
   "source": [
    "for ln in b2tf_add:\n",
    "    ln.attrib['file'] = f'resultados/detectores/{arquivo_add}.xml'\n",
    "\n",
    "tree_add.write(\"adicionais.xml\")"
   ],
   "outputs": [],
   "metadata": {}
  },
  {
   "cell_type": "code",
   "execution_count": null,
   "source": [
    "tree = ET.parse('demanda.rou.xml')\n",
    "root = tree.getroot()"
   ],
   "outputs": [],
   "metadata": {}
  },
  {
   "cell_type": "code",
   "execution_count": null,
   "source": [
    "# localizar uma rota\n",
    "\n",
    "#b2tf = root.find(\"./flow[@id='flow_6']\")\n",
    "#print(b2tf.attrib)\n",
    "#b2tf.attrib['number'] = '100'\n",
    "#print(b2tf.attrib)"
   ],
   "outputs": [],
   "metadata": {}
  },
  {
   "cell_type": "code",
   "execution_count": null,
   "source": [
    "for rota in rotas_det:\n",
    "    b2tf = root.find(f'./flow[@route=\"{rota}\"]')\n",
    "    b2tf.attrib['number'] = str(int(rotas_det[rota]['demand_num']))\n",
    "    print(b2tf.attrib)"
   ],
   "outputs": [],
   "metadata": {}
  },
  {
   "cell_type": "code",
   "execution_count": null,
   "source": [
    "tree.write(\"demanda.rou.xml\")\n",
    "tree.write(f'resultados/demandas/{arquivo_add}.rou.xml')"
   ],
   "outputs": [],
   "metadata": {}
  },
  {
   "cell_type": "markdown",
   "source": [
    "## rodar próx.passo"
   ],
   "metadata": {}
  },
  {
   "cell_type": "code",
   "execution_count": null,
   "source": [
    "# rodar simulação\n",
    "!sumo simulacao.sumocfg\n"
   ],
   "outputs": [],
   "metadata": {}
  },
  {
   "cell_type": "code",
   "execution_count": null,
   "source": [
    "# to csv\n",
    "!python3 xml2csv.py full.output.xml\n"
   ],
   "outputs": [],
   "metadata": {}
  }
 ],
 "metadata": {
  "orig_nbformat": 4,
  "language_info": {
   "name": "python",
   "version": "3.9.7",
   "mimetype": "text/x-python",
   "codemirror_mode": {
    "name": "ipython",
    "version": 3
   },
   "pygments_lexer": "ipython3",
   "nbconvert_exporter": "python",
   "file_extension": ".py"
  },
  "kernelspec": {
   "name": "python3",
   "display_name": "Python 3.9.7 64-bit ('base': conda)"
  },
  "interpreter": {
   "hash": "95ec9ec1504d83f612128e0fb229072f90bbb4cb09d9d5d93b5dd26e0ca2cfd1"
  }
 },
 "nbformat": 4,
 "nbformat_minor": 2
}