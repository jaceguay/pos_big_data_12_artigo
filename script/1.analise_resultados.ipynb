{
 "cells": [
  {
   "cell_type": "code",
   "execution_count": 1,
   "source": [
    "import pandas as pd\n",
    "import os\n",
    "\n",
    "pd.set_option('display.max_columns', 45)"
   ],
   "outputs": [],
   "metadata": {}
  },
  {
   "cell_type": "code",
   "execution_count": 3,
   "source": [
    "wpath = os.getcwd()\n",
    "path = f'{wpath}/resultados/rotas'\n",
    "pasta = os.listdir(path)\n",
    "print(pastas)"
   ],
   "outputs": [
    {
     "output_type": "stream",
     "name": "stdout",
     "text": [
      "['20.json', '16.json', '6.json', '7.json', '.DS_Store', '17.json', '21.json', '10.json', '26.json', '30.json', '27.json', '1.json', '11.json', '2.json', '28.json', '12.json', '24.json', '25.json', '13.json', '29.json', '3.json', '8.json', '22.json', '18.json', '4.json', '14.json', '15.json', '5.json', '19.json', '23.json', '9.json']\n"
     ]
    }
   ],
   "metadata": {}
  },
  {
   "cell_type": "code",
   "execution_count": 11,
   "source": [
    "for p in pasta:\n",
    "    if p[-5:] == '.json':\n",
    "        print(p)"
   ],
   "outputs": [
    {
     "output_type": "stream",
     "name": "stdout",
     "text": [
      "20.json\n",
      "16.json\n",
      "6.json\n",
      "7.json\n",
      "17.json\n",
      "21.json\n",
      "10.json\n",
      "26.json\n",
      "30.json\n",
      "27.json\n",
      "1.json\n",
      "11.json\n",
      "2.json\n",
      "28.json\n",
      "12.json\n",
      "24.json\n",
      "25.json\n",
      "13.json\n",
      "29.json\n",
      "3.json\n",
      "8.json\n",
      "22.json\n",
      "18.json\n",
      "4.json\n",
      "14.json\n",
      "15.json\n",
      "5.json\n",
      "19.json\n",
      "23.json\n",
      "9.json\n"
     ]
    }
   ],
   "metadata": {}
  }
 ],
 "metadata": {
  "orig_nbformat": 4,
  "language_info": {
   "name": "python",
   "version": "3.9.7",
   "mimetype": "text/x-python",
   "codemirror_mode": {
    "name": "ipython",
    "version": 3
   },
   "pygments_lexer": "ipython3",
   "nbconvert_exporter": "python",
   "file_extension": ".py"
  },
  "kernelspec": {
   "name": "python3",
   "display_name": "Python 3.9.7 64-bit ('base': conda)"
  },
  "interpreter": {
   "hash": "95ec9ec1504d83f612128e0fb229072f90bbb4cb09d9d5d93b5dd26e0ca2cfd1"
  }
 },
 "nbformat": 4,
 "nbformat_minor": 2
}