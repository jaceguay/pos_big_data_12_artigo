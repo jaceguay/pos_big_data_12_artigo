{
 "cells": [
  {
   "cell_type": "code",
   "execution_count": 1,
   "source": [
    "import pandas as pd\n",
    "import os\n",
    "import json\n",
    "from matplotlib import pyplot\n",
    "import seaborn as sns\n",
    "\n",
    "pd.set_option('display.max_columns', 45)"
   ],
   "outputs": [],
   "metadata": {}
  },
  {
   "cell_type": "code",
   "execution_count": 2,
   "source": [
    "wpath = os.getcwd()\n",
    "path = f'{wpath}/resultados/rotas'\n",
    "pasta = os.listdir(path)\n",
    "print(pasta)"
   ],
   "outputs": [
    {
     "output_type": "stream",
     "name": "stdout",
     "text": [
      "['1.json', '10.json', '11.json', '12.json', '13.json', '14.json', '15.json', '16.json', '17.json', '18.json', '19.json', '2.json', '20.json', '21.json', '22.json', '23.json', '24.json', '25.json', '26.json', '27.json', '28.json', '29.json', '3.json', '30.json', '4.json', '5.json', '6.json', '7.json', '8.json', '9.json']\n"
     ]
    }
   ],
   "metadata": {}
  },
  {
   "cell_type": "code",
   "execution_count": 3,
   "source": [
    "# [passo,rota,grupo,demanda,vsensor,vgoogle]\n",
    "rotas_json = []\n",
    "\n",
    "for p in pasta:\n",
    "    if p[-5:] == '.json':\n",
    "        with open(f'{path}/{p}') as json_file:\n",
    "            dados_json = json.load(json_file)\n",
    "            for chave, valor in dados_json.items():\n",
    "\n",
    "                grupo = None\n",
    "                if chave in ('route_0', 'route_1', 'route_3'):\n",
    "                    grupo = 'oeste'\n",
    "                if chave in ('route_4', 'route_5', 'route_7'):\n",
    "                    grupo = 'leste'\n",
    "                if chave in ('route_11', 'route_12', 'route_13'):\n",
    "                    grupo = 'sul'\n",
    "                if chave in ('route_14', 'route_15', 'route_16', 'route_8', 'route_9', 'route_10'):\n",
    "                    grupo = 'norte'\n",
    "\n",
    "                rotas_json.append([int(p.split('.')[0]), chave, grupo, int(valor['demanda_atrib']),\n",
    "                                   float(valor['sensor_speed1']), float(valor['vmax_sensor1']), float(valor['vmin_sensor1'])])\n",
    "\n",
    "rotas_sumo = pd.DataFrame(rotas_json, columns=[\n",
    "    'passo', 'rota', 'grupo', 'demanda', 'vsensor', 'vmax', 'vmin'])\n",
    "\n",
    "rotas_sumo.head()\n"
   ],
   "outputs": [
    {
     "output_type": "execute_result",
     "data": {
      "text/html": [
       "<div>\n",
       "<style scoped>\n",
       "    .dataframe tbody tr th:only-of-type {\n",
       "        vertical-align: middle;\n",
       "    }\n",
       "\n",
       "    .dataframe tbody tr th {\n",
       "        vertical-align: top;\n",
       "    }\n",
       "\n",
       "    .dataframe thead th {\n",
       "        text-align: right;\n",
       "    }\n",
       "</style>\n",
       "<table border=\"1\" class=\"dataframe\">\n",
       "  <thead>\n",
       "    <tr style=\"text-align: right;\">\n",
       "      <th></th>\n",
       "      <th>passo</th>\n",
       "      <th>rota</th>\n",
       "      <th>grupo</th>\n",
       "      <th>demanda</th>\n",
       "      <th>vsensor</th>\n",
       "      <th>vmax</th>\n",
       "      <th>vmin</th>\n",
       "    </tr>\n",
       "  </thead>\n",
       "  <tbody>\n",
       "    <tr>\n",
       "      <th>0</th>\n",
       "      <td>1</td>\n",
       "      <td>route_0</td>\n",
       "      <td>oeste</td>\n",
       "      <td>10</td>\n",
       "      <td>12.906667</td>\n",
       "      <td>8.79</td>\n",
       "      <td>4.8</td>\n",
       "    </tr>\n",
       "    <tr>\n",
       "      <th>1</th>\n",
       "      <td>1</td>\n",
       "      <td>route_1</td>\n",
       "      <td>oeste</td>\n",
       "      <td>10</td>\n",
       "      <td>12.906667</td>\n",
       "      <td>8.79</td>\n",
       "      <td>4.8</td>\n",
       "    </tr>\n",
       "    <tr>\n",
       "      <th>2</th>\n",
       "      <td>1</td>\n",
       "      <td>route_10</td>\n",
       "      <td>norte</td>\n",
       "      <td>10</td>\n",
       "      <td>8.242500</td>\n",
       "      <td>6.04</td>\n",
       "      <td>3.3</td>\n",
       "    </tr>\n",
       "    <tr>\n",
       "      <th>3</th>\n",
       "      <td>1</td>\n",
       "      <td>route_11</td>\n",
       "      <td>sul</td>\n",
       "      <td>10</td>\n",
       "      <td>8.349167</td>\n",
       "      <td>6.04</td>\n",
       "      <td>3.3</td>\n",
       "    </tr>\n",
       "    <tr>\n",
       "      <th>4</th>\n",
       "      <td>1</td>\n",
       "      <td>route_12</td>\n",
       "      <td>sul</td>\n",
       "      <td>10</td>\n",
       "      <td>8.349167</td>\n",
       "      <td>6.04</td>\n",
       "      <td>3.3</td>\n",
       "    </tr>\n",
       "  </tbody>\n",
       "</table>\n",
       "</div>"
      ],
      "text/plain": [
       "   passo      rota  grupo  demanda    vsensor  vmax  vmin\n",
       "0      1   route_0  oeste       10  12.906667  8.79   4.8\n",
       "1      1   route_1  oeste       10  12.906667  8.79   4.8\n",
       "2      1  route_10  norte       10   8.242500  6.04   3.3\n",
       "3      1  route_11    sul       10   8.349167  6.04   3.3\n",
       "4      1  route_12    sul       10   8.349167  6.04   3.3"
      ]
     },
     "metadata": {},
     "execution_count": 3
    }
   ],
   "metadata": {}
  },
  {
   "cell_type": "code",
   "execution_count": 4,
   "source": [
    "rotas_sumo.info()"
   ],
   "outputs": [
    {
     "output_type": "stream",
     "name": "stdout",
     "text": [
      "<class 'pandas.core.frame.DataFrame'>\n",
      "RangeIndex: 450 entries, 0 to 449\n",
      "Data columns (total 7 columns):\n",
      " #   Column   Non-Null Count  Dtype  \n",
      "---  ------   --------------  -----  \n",
      " 0   passo    450 non-null    int64  \n",
      " 1   rota     450 non-null    object \n",
      " 2   grupo    450 non-null    object \n",
      " 3   demanda  450 non-null    int64  \n",
      " 4   vsensor  450 non-null    float64\n",
      " 5   vmax     450 non-null    float64\n",
      " 6   vmin     450 non-null    float64\n",
      "dtypes: float64(3), int64(2), object(2)\n",
      "memory usage: 24.7+ KB\n"
     ]
    }
   ],
   "metadata": {}
  },
  {
   "cell_type": "markdown",
   "source": [
    "# Progressão dos grupos ao longo da simulação"
   ],
   "metadata": {}
  },
  {
   "cell_type": "code",
   "execution_count": 5,
   "source": [
    "rotas_sumo_grupos = rotas_sumo.groupby(\n",
    "    ['passo','grupo']).agg({'demanda': 'sum', 'vsensor': 'mean', 'vmax': 'mean', 'vmin': 'mean'}).reset_index()\n",
    "\n",
    "rotas_sumo_grupos.head()\n"
   ],
   "outputs": [
    {
     "output_type": "execute_result",
     "data": {
      "text/html": [
       "<div>\n",
       "<style scoped>\n",
       "    .dataframe tbody tr th:only-of-type {\n",
       "        vertical-align: middle;\n",
       "    }\n",
       "\n",
       "    .dataframe tbody tr th {\n",
       "        vertical-align: top;\n",
       "    }\n",
       "\n",
       "    .dataframe thead th {\n",
       "        text-align: right;\n",
       "    }\n",
       "</style>\n",
       "<table border=\"1\" class=\"dataframe\">\n",
       "  <thead>\n",
       "    <tr style=\"text-align: right;\">\n",
       "      <th></th>\n",
       "      <th>passo</th>\n",
       "      <th>grupo</th>\n",
       "      <th>demanda</th>\n",
       "      <th>vsensor</th>\n",
       "      <th>vmax</th>\n",
       "      <th>vmin</th>\n",
       "    </tr>\n",
       "  </thead>\n",
       "  <tbody>\n",
       "    <tr>\n",
       "      <th>0</th>\n",
       "      <td>1</td>\n",
       "      <td>leste</td>\n",
       "      <td>30</td>\n",
       "      <td>12.799583</td>\n",
       "      <td>8.790</td>\n",
       "      <td>4.800</td>\n",
       "    </tr>\n",
       "    <tr>\n",
       "      <th>1</th>\n",
       "      <td>1</td>\n",
       "      <td>norte</td>\n",
       "      <td>60</td>\n",
       "      <td>8.016875</td>\n",
       "      <td>6.865</td>\n",
       "      <td>4.675</td>\n",
       "    </tr>\n",
       "    <tr>\n",
       "      <th>2</th>\n",
       "      <td>1</td>\n",
       "      <td>oeste</td>\n",
       "      <td>30</td>\n",
       "      <td>12.906667</td>\n",
       "      <td>8.790</td>\n",
       "      <td>4.800</td>\n",
       "    </tr>\n",
       "    <tr>\n",
       "      <th>3</th>\n",
       "      <td>1</td>\n",
       "      <td>sul</td>\n",
       "      <td>30</td>\n",
       "      <td>8.349167</td>\n",
       "      <td>6.040</td>\n",
       "      <td>3.300</td>\n",
       "    </tr>\n",
       "    <tr>\n",
       "      <th>4</th>\n",
       "      <td>2</td>\n",
       "      <td>leste</td>\n",
       "      <td>141</td>\n",
       "      <td>14.200385</td>\n",
       "      <td>8.790</td>\n",
       "      <td>4.800</td>\n",
       "    </tr>\n",
       "  </tbody>\n",
       "</table>\n",
       "</div>"
      ],
      "text/plain": [
       "   passo  grupo  demanda    vsensor   vmax   vmin\n",
       "0      1  leste       30  12.799583  8.790  4.800\n",
       "1      1  norte       60   8.016875  6.865  4.675\n",
       "2      1  oeste       30  12.906667  8.790  4.800\n",
       "3      1    sul       30   8.349167  6.040  3.300\n",
       "4      2  leste      141  14.200385  8.790  4.800"
      ]
     },
     "metadata": {},
     "execution_count": 5
    }
   ],
   "metadata": {}
  },
  {
   "cell_type": "code",
   "execution_count": 6,
   "source": [
    "rotas_sumo_grupos.info()"
   ],
   "outputs": [
    {
     "output_type": "stream",
     "name": "stdout",
     "text": [
      "<class 'pandas.core.frame.DataFrame'>\n",
      "RangeIndex: 120 entries, 0 to 119\n",
      "Data columns (total 6 columns):\n",
      " #   Column   Non-Null Count  Dtype  \n",
      "---  ------   --------------  -----  \n",
      " 0   passo    120 non-null    int64  \n",
      " 1   grupo    120 non-null    object \n",
      " 2   demanda  120 non-null    int64  \n",
      " 3   vsensor  120 non-null    float64\n",
      " 4   vmax     120 non-null    float64\n",
      " 5   vmin     120 non-null    float64\n",
      "dtypes: float64(3), int64(2), object(1)\n",
      "memory usage: 5.8+ KB\n"
     ]
    }
   ],
   "metadata": {}
  },
  {
   "cell_type": "code",
   "execution_count": 7,
   "source": [
    "fig, ax = pyplot.subplots(figsize=(11, 5))\n",
    "rotas_grupos = sns.lineplot(data=rotas_sumo_grupos, x='passo', y='demanda', hue='grupo', palette=[\n",
    "                      'red', 'blue', 'green', 'orange'], ax=ax)\n",
    "rotas_grupos.set_title(\n",
    "    \"Progressão no número de veículos adicionados a cada grupo, a cada ciclo de avaliação/simulação\")\n",
    "rotas_grupos.set_xlabel(\"nº de simulações\", fontsize=10)\n",
    "rotas_grupos.set_ylabel(\"nº de veículos alocados\", fontsize=10)"
   ],
   "outputs": [
    {
     "output_type": "execute_result",
     "data": {
      "text/plain": [
       "Text(0, 0.5, 'nº de veículos alocados')"
      ]
     },
     "metadata": {},
     "execution_count": 7
    },
    {
     "output_type": "display_data",
     "data": {
      "image/png": "[encoded data removed]",
      "text/plain": [
       "<Figure size 792x360 with 1 Axes>"
      ]
     },
     "metadata": {
      "needs_background": "light"
     }
    }
   ],
   "metadata": {}
  },
  {
   "cell_type": "markdown",
   "source": [
    "# Progressão por rotas"
   ],
   "metadata": {}
  },
  {
   "cell_type": "code",
   "execution_count": 11,
   "source": [
    "rotas_sumo_leste = rotas_sumo.loc[rotas_sumo['grupo'] == 'leste'].groupby(\n",
    "    ['passo', 'rota']).agg({'demanda': 'sum', 'vsensor': 'mean', 'vmax': 'mean'}).reset_index()\n",
    "\n",
    "rotas_sumo_leste.head()\n"
   ],
   "outputs": [
    {
     "output_type": "execute_result",
     "data": {
      "text/html": [
       "<div>\n",
       "<style scoped>\n",
       "    .dataframe tbody tr th:only-of-type {\n",
       "        vertical-align: middle;\n",
       "    }\n",
       "\n",
       "    .dataframe tbody tr th {\n",
       "        vertical-align: top;\n",
       "    }\n",
       "\n",
       "    .dataframe thead th {\n",
       "        text-align: right;\n",
       "    }\n",
       "</style>\n",
       "<table border=\"1\" class=\"dataframe\">\n",
       "  <thead>\n",
       "    <tr style=\"text-align: right;\">\n",
       "      <th></th>\n",
       "      <th>passo</th>\n",
       "      <th>rota</th>\n",
       "      <th>demanda</th>\n",
       "      <th>vsensor</th>\n",
       "      <th>vmax</th>\n",
       "    </tr>\n",
       "  </thead>\n",
       "  <tbody>\n",
       "    <tr>\n",
       "      <th>0</th>\n",
       "      <td>1</td>\n",
       "      <td>route_4</td>\n",
       "      <td>10</td>\n",
       "      <td>12.799583</td>\n",
       "      <td>8.79</td>\n",
       "    </tr>\n",
       "    <tr>\n",
       "      <th>1</th>\n",
       "      <td>1</td>\n",
       "      <td>route_5</td>\n",
       "      <td>10</td>\n",
       "      <td>12.799583</td>\n",
       "      <td>8.79</td>\n",
       "    </tr>\n",
       "    <tr>\n",
       "      <th>2</th>\n",
       "      <td>1</td>\n",
       "      <td>route_7</td>\n",
       "      <td>10</td>\n",
       "      <td>12.799583</td>\n",
       "      <td>8.79</td>\n",
       "    </tr>\n",
       "    <tr>\n",
       "      <th>3</th>\n",
       "      <td>2</td>\n",
       "      <td>route_4</td>\n",
       "      <td>47</td>\n",
       "      <td>14.200385</td>\n",
       "      <td>8.79</td>\n",
       "    </tr>\n",
       "    <tr>\n",
       "      <th>4</th>\n",
       "      <td>2</td>\n",
       "      <td>route_5</td>\n",
       "      <td>47</td>\n",
       "      <td>14.200385</td>\n",
       "      <td>8.79</td>\n",
       "    </tr>\n",
       "  </tbody>\n",
       "</table>\n",
       "</div>"
      ],
      "text/plain": [
       "   passo     rota  demanda    vsensor  vmax\n",
       "0      1  route_4       10  12.799583  8.79\n",
       "1      1  route_5       10  12.799583  8.79\n",
       "2      1  route_7       10  12.799583  8.79\n",
       "3      2  route_4       47  14.200385  8.79\n",
       "4      2  route_5       47  14.200385  8.79"
      ]
     },
     "metadata": {},
     "execution_count": 11
    }
   ],
   "metadata": {}
  },
  {
   "cell_type": "code",
   "execution_count": 12,
   "source": [
    "fig, ax = pyplot.subplots(figsize=(11, 5))\n",
    "rotas_leste = sns.lineplot(data=rotas_sumo_leste, x='passo', y='vsensor', hue='rota', ax=ax)\n",
    "rotas_leste.set_title(\n",
    "    \"Progressão no número de veículos adicionados a cada rota no grupo leste, a cada ciclo de avaliação/simulação\")\n",
    "rotas_leste.set_xlabel(\"nº de simulações\", fontsize=10)\n",
    "rotas_leste.set_ylabel(\"nº de veículos alocados\", fontsize=10)"
   ],
   "outputs": [
    {
     "output_type": "execute_result",
     "data": {
      "text/plain": [
       "Text(0, 0.5, 'nº de veículos alocados')"
      ]
     },
     "metadata": {},
     "execution_count": 12
    },
    {
     "output_type": "display_data",
     "data": {
      "image/png": "[encoded data removed]",
      "text/plain": [
       "<Figure size 792x360 with 1 Axes>"
      ]
     },
     "metadata": {
      "needs_background": "light"
     }
    }
   ],
   "metadata": {}
  }
 ],
 "metadata": {
  "orig_nbformat": 4,
  "language_info": {
   "name": "python",
   "version": "3.8.10",
   "mimetype": "text/x-python",
   "codemirror_mode": {
    "name": "ipython",
    "version": 3
   },
   "pygments_lexer": "ipython3",
   "nbconvert_exporter": "python",
   "file_extension": ".py"
  },
  "kernelspec": {
   "name": "python3",
   "display_name": "Python 3.8.10 64-bit"
  },
  "interpreter": {
   "hash": "31f2aee4e71d21fbe5cf8b01ff0e069b9275f58929596ceb00d14d90e3e16cd6"
  }
 },
 "nbformat": 4,
 "nbformat_minor": 2
}