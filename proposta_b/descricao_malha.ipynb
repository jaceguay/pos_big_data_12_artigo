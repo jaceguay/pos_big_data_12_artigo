{
 "cells": [
  {
   "cell_type": "markdown",
   "source": [
    "# Malha"
   ],
   "metadata": {}
  },
  {
   "cell_type": "code",
   "execution_count": 1,
   "source": [
    "import xmltodict\n",
    "import json\n",
    "import pandas as pd\n",
    "import matplotlib.pyplot as plt\n",
    "\n",
    "pd.options.display.max_rows = 99\n"
   ],
   "outputs": [],
   "metadata": {}
  },
  {
   "cell_type": "code",
   "execution_count": 2,
   "source": [
    "with open('malha.net.xml', 'rb') as f:\n",
    "    malha_xml = xmltodict.parse(\n",
    "        f, attr_prefix='', cdata_key='', dict_constructor=dict)\n",
    "\n",
    "# print(json.dumps(malha_xml['net']['edge'], indent=4, ensure_ascii=False))\n"
   ],
   "outputs": [],
   "metadata": {}
  },
  {
   "cell_type": "code",
   "execution_count": 3,
   "source": [
    "malha_viaria = []\n",
    "\n",
    "for attr in malha_xml['net']['edge']:\n",
    "    malha_viaria.append([attr['id'], attr['name'], attr['priority'],\n",
    "                         attr['param'][0]['value'], attr['param'][1]['value']])\n",
    "\n",
    "malha = pd.DataFrame(malha_viaria, columns=[\n",
    "                     'id', 'name', 'priority', 'vmax', 'vmin'])\n",
    "\n",
    "malha.sort_values('priority', inplace=True, ascending=False)\n",
    "malha[['priority', 'vmax', 'vmin']] = malha[['priority', 'vmax', 'vmin']].apply(pd.to_numeric)\n",
    "\n",
    "malha.head()\n"
   ],
   "outputs": [
    {
     "output_type": "execute_result",
     "data": {
      "text/html": [
       "<div>\n",
       "<style scoped>\n",
       "    .dataframe tbody tr th:only-of-type {\n",
       "        vertical-align: middle;\n",
       "    }\n",
       "\n",
       "    .dataframe tbody tr th {\n",
       "        vertical-align: top;\n",
       "    }\n",
       "\n",
       "    .dataframe thead th {\n",
       "        text-align: right;\n",
       "    }\n",
       "</style>\n",
       "<table border=\"1\" class=\"dataframe\">\n",
       "  <thead>\n",
       "    <tr style=\"text-align: right;\">\n",
       "      <th></th>\n",
       "      <th>id</th>\n",
       "      <th>name</th>\n",
       "      <th>priority</th>\n",
       "      <th>vmax</th>\n",
       "      <th>vmin</th>\n",
       "    </tr>\n",
       "  </thead>\n",
       "  <tbody>\n",
       "    <tr>\n",
       "      <th>11</th>\n",
       "      <td>gneE2</td>\n",
       "      <td>Av.Ver.Abrahão João Francisco</td>\n",
       "      <td>5</td>\n",
       "      <td>5.94</td>\n",
       "      <td>4.67</td>\n",
       "    </tr>\n",
       "    <tr>\n",
       "      <th>23</th>\n",
       "      <td>gneE8</td>\n",
       "      <td>Av.Ver.Abrahão João Francisco</td>\n",
       "      <td>5</td>\n",
       "      <td>5.94</td>\n",
       "      <td>4.67</td>\n",
       "    </tr>\n",
       "    <tr>\n",
       "      <th>22</th>\n",
       "      <td>gneE7</td>\n",
       "      <td>Av.Ver.Abrahão João Francisco</td>\n",
       "      <td>5</td>\n",
       "      <td>5.94</td>\n",
       "      <td>4.67</td>\n",
       "    </tr>\n",
       "    <tr>\n",
       "      <th>6</th>\n",
       "      <td>gneE14</td>\n",
       "      <td>Av.Ver.Abrahão João Francisco</td>\n",
       "      <td>5</td>\n",
       "      <td>5.94</td>\n",
       "      <td>4.67</td>\n",
       "    </tr>\n",
       "    <tr>\n",
       "      <th>7</th>\n",
       "      <td>gneE15</td>\n",
       "      <td>Av.Ver.Abrahão João Francisco</td>\n",
       "      <td>5</td>\n",
       "      <td>5.94</td>\n",
       "      <td>4.67</td>\n",
       "    </tr>\n",
       "  </tbody>\n",
       "</table>\n",
       "</div>"
      ],
      "text/plain": [
       "        id                           name  priority  vmax  vmin\n",
       "11   gneE2  Av.Ver.Abrahão João Francisco         5  5.94  4.67\n",
       "23   gneE8  Av.Ver.Abrahão João Francisco         5  5.94  4.67\n",
       "22   gneE7  Av.Ver.Abrahão João Francisco         5  5.94  4.67\n",
       "6   gneE14  Av.Ver.Abrahão João Francisco         5  5.94  4.67\n",
       "7   gneE15  Av.Ver.Abrahão João Francisco         5  5.94  4.67"
      ]
     },
     "metadata": {},
     "execution_count": 3
    }
   ],
   "metadata": {}
  },
  {
   "cell_type": "markdown",
   "source": [
    "# Rotas"
   ],
   "metadata": {}
  },
  {
   "cell_type": "code",
   "execution_count": 4,
   "source": [
    "with open('demanda.rou.xml', 'rb') as f:\n",
    "    dem_xml = xmltodict.parse(\n",
    "        f, attr_prefix='', cdata_key='', dict_constructor=dict)\n",
    "\n",
    "# print(json.dumps(dem_xml['routes']['route'], indent=4, ensure_ascii=False))"
   ],
   "outputs": [],
   "metadata": {}
  },
  {
   "cell_type": "code",
   "execution_count": 5,
   "source": [
    "rotas = pd.DataFrame(dem_xml['routes']['route'])\n",
    "\n",
    "rotas.drop(columns=['color'], inplace=True)\n",
    "\n",
    "rotas.head()"
   ],
   "outputs": [
    {
     "output_type": "execute_result",
     "data": {
      "text/html": [
       "<div>\n",
       "<style scoped>\n",
       "    .dataframe tbody tr th:only-of-type {\n",
       "        vertical-align: middle;\n",
       "    }\n",
       "\n",
       "    .dataframe tbody tr th {\n",
       "        vertical-align: top;\n",
       "    }\n",
       "\n",
       "    .dataframe thead th {\n",
       "        text-align: right;\n",
       "    }\n",
       "</style>\n",
       "<table border=\"1\" class=\"dataframe\">\n",
       "  <thead>\n",
       "    <tr style=\"text-align: right;\">\n",
       "      <th></th>\n",
       "      <th>edges</th>\n",
       "      <th>id</th>\n",
       "    </tr>\n",
       "  </thead>\n",
       "  <tbody>\n",
       "    <tr>\n",
       "      <th>0</th>\n",
       "      <td>gneE0 gneE1 gneE2 gneE3 gneE4</td>\n",
       "      <td>route_0</td>\n",
       "    </tr>\n",
       "    <tr>\n",
       "      <th>1</th>\n",
       "      <td>gneE0 gneE1 gneE2 gneE3 gneE15 gneE16 gneE17</td>\n",
       "      <td>route_1</td>\n",
       "    </tr>\n",
       "    <tr>\n",
       "      <th>2</th>\n",
       "      <td>gneE10 gneE11 gneE12 gneE14 gneE2 gneE24</td>\n",
       "      <td>route_10</td>\n",
       "    </tr>\n",
       "    <tr>\n",
       "      <th>3</th>\n",
       "      <td>gneE23 gneE15 gneE7 gneE8 gneE9</td>\n",
       "      <td>route_11</td>\n",
       "    </tr>\n",
       "    <tr>\n",
       "      <th>4</th>\n",
       "      <td>gneE23 gneE15 gneE16 gneE17</td>\n",
       "      <td>route_12</td>\n",
       "    </tr>\n",
       "  </tbody>\n",
       "</table>\n",
       "</div>"
      ],
      "text/plain": [
       "                                          edges        id\n",
       "0                 gneE0 gneE1 gneE2 gneE3 gneE4   route_0\n",
       "1  gneE0 gneE1 gneE2 gneE3 gneE15 gneE16 gneE17   route_1\n",
       "2      gneE10 gneE11 gneE12 gneE14 gneE2 gneE24  route_10\n",
       "3               gneE23 gneE15 gneE7 gneE8 gneE9  route_11\n",
       "4                   gneE23 gneE15 gneE16 gneE17  route_12"
      ]
     },
     "metadata": {},
     "execution_count": 5
    }
   ],
   "metadata": {}
  },
  {
   "cell_type": "markdown",
   "source": [
    "# Resultados da simulação"
   ],
   "metadata": {}
  },
  {
   "cell_type": "code",
   "execution_count": 6,
   "source": [
    "#!python3 xml2csv.py full.output.xml"
   ],
   "outputs": [],
   "metadata": {}
  },
  {
   "cell_type": "code",
   "execution_count": 7,
   "source": [
    "resultados_sumo = pd.read_csv('full.output.csv', sep=';')\n",
    "resultados_sumo.head()"
   ],
   "outputs": [
    {
     "output_type": "execute_result",
     "data": {
      "text/html": [
       "<div>\n",
       "<style scoped>\n",
       "    .dataframe tbody tr th:only-of-type {\n",
       "        vertical-align: middle;\n",
       "    }\n",
       "\n",
       "    .dataframe tbody tr th {\n",
       "        vertical-align: top;\n",
       "    }\n",
       "\n",
       "    .dataframe thead th {\n",
       "        text-align: right;\n",
       "    }\n",
       "</style>\n",
       "<table border=\"1\" class=\"dataframe\">\n",
       "  <thead>\n",
       "    <tr style=\"text-align: right;\">\n",
       "      <th></th>\n",
       "      <th>data_timestep</th>\n",
       "      <th>vehicle_CO</th>\n",
       "      <th>vehicle_CO2</th>\n",
       "      <th>vehicle_HC</th>\n",
       "      <th>vehicle_NOx</th>\n",
       "      <th>vehicle_PMx</th>\n",
       "      <th>vehicle_angle</th>\n",
       "      <th>vehicle_eclass</th>\n",
       "      <th>vehicle_electricity</th>\n",
       "      <th>vehicle_fuel</th>\n",
       "      <th>...</th>\n",
       "      <th>lane_NOx</th>\n",
       "      <th>lane_PMx</th>\n",
       "      <th>lane_electricity</th>\n",
       "      <th>lane_fuel</th>\n",
       "      <th>lane_id</th>\n",
       "      <th>lane_maxspeed</th>\n",
       "      <th>lane_meanspeed</th>\n",
       "      <th>lane_noise</th>\n",
       "      <th>lane_occupancy</th>\n",
       "      <th>lane_vehicle_count</th>\n",
       "    </tr>\n",
       "  </thead>\n",
       "  <tbody>\n",
       "    <tr>\n",
       "      <th>0</th>\n",
       "      <td>0.0</td>\n",
       "      <td>164.78</td>\n",
       "      <td>2624.72</td>\n",
       "      <td>0.81</td>\n",
       "      <td>1.2</td>\n",
       "      <td>0.07</td>\n",
       "      <td>53.33</td>\n",
       "      <td>HBEFA3/PC_G_EU4</td>\n",
       "      <td>0.0</td>\n",
       "      <td>1.13</td>\n",
       "      <td>...</td>\n",
       "      <td>NaN</td>\n",
       "      <td>NaN</td>\n",
       "      <td>NaN</td>\n",
       "      <td>NaN</td>\n",
       "      <td>NaN</td>\n",
       "      <td>NaN</td>\n",
       "      <td>NaN</td>\n",
       "      <td>NaN</td>\n",
       "      <td>NaN</td>\n",
       "      <td>NaN</td>\n",
       "    </tr>\n",
       "    <tr>\n",
       "      <th>1</th>\n",
       "      <td>0.0</td>\n",
       "      <td>164.78</td>\n",
       "      <td>2624.72</td>\n",
       "      <td>0.81</td>\n",
       "      <td>1.2</td>\n",
       "      <td>0.07</td>\n",
       "      <td>232.28</td>\n",
       "      <td>HBEFA3/PC_G_EU4</td>\n",
       "      <td>0.0</td>\n",
       "      <td>1.13</td>\n",
       "      <td>...</td>\n",
       "      <td>NaN</td>\n",
       "      <td>NaN</td>\n",
       "      <td>NaN</td>\n",
       "      <td>NaN</td>\n",
       "      <td>NaN</td>\n",
       "      <td>NaN</td>\n",
       "      <td>NaN</td>\n",
       "      <td>NaN</td>\n",
       "      <td>NaN</td>\n",
       "      <td>NaN</td>\n",
       "    </tr>\n",
       "    <tr>\n",
       "      <th>2</th>\n",
       "      <td>0.0</td>\n",
       "      <td>164.78</td>\n",
       "      <td>2624.72</td>\n",
       "      <td>0.81</td>\n",
       "      <td>1.2</td>\n",
       "      <td>0.07</td>\n",
       "      <td>96.77</td>\n",
       "      <td>HBEFA3/PC_G_EU4</td>\n",
       "      <td>0.0</td>\n",
       "      <td>1.13</td>\n",
       "      <td>...</td>\n",
       "      <td>NaN</td>\n",
       "      <td>NaN</td>\n",
       "      <td>NaN</td>\n",
       "      <td>NaN</td>\n",
       "      <td>NaN</td>\n",
       "      <td>NaN</td>\n",
       "      <td>NaN</td>\n",
       "      <td>NaN</td>\n",
       "      <td>NaN</td>\n",
       "      <td>NaN</td>\n",
       "    </tr>\n",
       "    <tr>\n",
       "      <th>3</th>\n",
       "      <td>0.0</td>\n",
       "      <td>164.78</td>\n",
       "      <td>2624.72</td>\n",
       "      <td>0.81</td>\n",
       "      <td>1.2</td>\n",
       "      <td>0.07</td>\n",
       "      <td>351.62</td>\n",
       "      <td>HBEFA3/PC_G_EU4</td>\n",
       "      <td>0.0</td>\n",
       "      <td>1.13</td>\n",
       "      <td>...</td>\n",
       "      <td>NaN</td>\n",
       "      <td>NaN</td>\n",
       "      <td>NaN</td>\n",
       "      <td>NaN</td>\n",
       "      <td>NaN</td>\n",
       "      <td>NaN</td>\n",
       "      <td>NaN</td>\n",
       "      <td>NaN</td>\n",
       "      <td>NaN</td>\n",
       "      <td>NaN</td>\n",
       "    </tr>\n",
       "    <tr>\n",
       "      <th>4</th>\n",
       "      <td>0.0</td>\n",
       "      <td>164.78</td>\n",
       "      <td>2624.72</td>\n",
       "      <td>0.81</td>\n",
       "      <td>1.2</td>\n",
       "      <td>0.07</td>\n",
       "      <td>170.95</td>\n",
       "      <td>HBEFA3/PC_G_EU4</td>\n",
       "      <td>0.0</td>\n",
       "      <td>1.13</td>\n",
       "      <td>...</td>\n",
       "      <td>NaN</td>\n",
       "      <td>NaN</td>\n",
       "      <td>NaN</td>\n",
       "      <td>NaN</td>\n",
       "      <td>NaN</td>\n",
       "      <td>NaN</td>\n",
       "      <td>NaN</td>\n",
       "      <td>NaN</td>\n",
       "      <td>NaN</td>\n",
       "      <td>NaN</td>\n",
       "    </tr>\n",
       "  </tbody>\n",
       "</table>\n",
       "<p>5 rows × 35 columns</p>\n",
       "</div>"
      ],
      "text/plain": [
       "   data_timestep  vehicle_CO  vehicle_CO2  vehicle_HC  vehicle_NOx  \\\n",
       "0            0.0      164.78      2624.72        0.81          1.2   \n",
       "1            0.0      164.78      2624.72        0.81          1.2   \n",
       "2            0.0      164.78      2624.72        0.81          1.2   \n",
       "3            0.0      164.78      2624.72        0.81          1.2   \n",
       "4            0.0      164.78      2624.72        0.81          1.2   \n",
       "\n",
       "   vehicle_PMx  vehicle_angle   vehicle_eclass  vehicle_electricity  \\\n",
       "0         0.07          53.33  HBEFA3/PC_G_EU4                  0.0   \n",
       "1         0.07         232.28  HBEFA3/PC_G_EU4                  0.0   \n",
       "2         0.07          96.77  HBEFA3/PC_G_EU4                  0.0   \n",
       "3         0.07         351.62  HBEFA3/PC_G_EU4                  0.0   \n",
       "4         0.07         170.95  HBEFA3/PC_G_EU4                  0.0   \n",
       "\n",
       "   vehicle_fuel  ... lane_NOx lane_PMx  lane_electricity  lane_fuel lane_id  \\\n",
       "0          1.13  ...      NaN      NaN               NaN        NaN     NaN   \n",
       "1          1.13  ...      NaN      NaN               NaN        NaN     NaN   \n",
       "2          1.13  ...      NaN      NaN               NaN        NaN     NaN   \n",
       "3          1.13  ...      NaN      NaN               NaN        NaN     NaN   \n",
       "4          1.13  ...      NaN      NaN               NaN        NaN     NaN   \n",
       "\n",
       "   lane_maxspeed lane_meanspeed  lane_noise  lane_occupancy  \\\n",
       "0            NaN            NaN         NaN             NaN   \n",
       "1            NaN            NaN         NaN             NaN   \n",
       "2            NaN            NaN         NaN             NaN   \n",
       "3            NaN            NaN         NaN             NaN   \n",
       "4            NaN            NaN         NaN             NaN   \n",
       "\n",
       "   lane_vehicle_count  \n",
       "0                 NaN  \n",
       "1                 NaN  \n",
       "2                 NaN  \n",
       "3                 NaN  \n",
       "4                 NaN  \n",
       "\n",
       "[5 rows x 35 columns]"
      ]
     },
     "metadata": {},
     "execution_count": 7
    }
   ],
   "metadata": {}
  },
  {
   "cell_type": "code",
   "execution_count": 8,
   "source": [
    "resultados_sumo.columns"
   ],
   "outputs": [
    {
     "output_type": "execute_result",
     "data": {
      "text/plain": [
       "Index(['data_timestep', 'vehicle_CO', 'vehicle_CO2', 'vehicle_HC',\n",
       "       'vehicle_NOx', 'vehicle_PMx', 'vehicle_angle', 'vehicle_eclass',\n",
       "       'vehicle_electricity', 'vehicle_fuel', 'vehicle_id', 'vehicle_lane',\n",
       "       'vehicle_noise', 'vehicle_pos', 'vehicle_route', 'vehicle_speed',\n",
       "       'vehicle_type', 'vehicle_waiting', 'vehicle_x', 'vehicle_y', 'edge_id',\n",
       "       'edge_traveltime', 'lane_CO', 'lane_CO2', 'lane_HC', 'lane_NOx',\n",
       "       'lane_PMx', 'lane_electricity', 'lane_fuel', 'lane_id', 'lane_maxspeed',\n",
       "       'lane_meanspeed', 'lane_noise', 'lane_occupancy', 'lane_vehicle_count'],\n",
       "      dtype='object')"
      ]
     },
     "metadata": {},
     "execution_count": 8
    }
   ],
   "metadata": {}
  },
  {
   "cell_type": "code",
   "execution_count": 13,
   "source": [
    "resultados_sumo['vehicle_edge'] = resultados_sumo['vehicle_lane'].str.split(\n",
    "    '_').str[0]\n",
    "\n",
    "veiculos_sumo = resultados_sumo[resultados_sumo['vehicle_route'].notnull(\n",
    ")][['data_timestep', 'vehicle_route', 'vehicle_edge', 'vehicle_speed']]\n",
    "\n",
    "veiculos_sumo.head()\n"
   ],
   "outputs": [
    {
     "output_type": "execute_result",
     "data": {
      "text/html": [
       "<div>\n",
       "<style scoped>\n",
       "    .dataframe tbody tr th:only-of-type {\n",
       "        vertical-align: middle;\n",
       "    }\n",
       "\n",
       "    .dataframe tbody tr th {\n",
       "        vertical-align: top;\n",
       "    }\n",
       "\n",
       "    .dataframe thead th {\n",
       "        text-align: right;\n",
       "    }\n",
       "</style>\n",
       "<table border=\"1\" class=\"dataframe\">\n",
       "  <thead>\n",
       "    <tr style=\"text-align: right;\">\n",
       "      <th></th>\n",
       "      <th>data_timestep</th>\n",
       "      <th>vehicle_route</th>\n",
       "      <th>vehicle_edge</th>\n",
       "      <th>vehicle_speed</th>\n",
       "    </tr>\n",
       "  </thead>\n",
       "  <tbody>\n",
       "    <tr>\n",
       "      <th>0</th>\n",
       "      <td>0.0</td>\n",
       "      <td>route_0</td>\n",
       "      <td>gneE0</td>\n",
       "      <td>0.0</td>\n",
       "    </tr>\n",
       "    <tr>\n",
       "      <th>1</th>\n",
       "      <td>0.0</td>\n",
       "      <td>route_4</td>\n",
       "      <td>gneE5</td>\n",
       "      <td>0.0</td>\n",
       "    </tr>\n",
       "    <tr>\n",
       "      <th>2</th>\n",
       "      <td>0.0</td>\n",
       "      <td>route_10</td>\n",
       "      <td>gneE10</td>\n",
       "      <td>0.0</td>\n",
       "    </tr>\n",
       "    <tr>\n",
       "      <th>3</th>\n",
       "      <td>0.0</td>\n",
       "      <td>route_11</td>\n",
       "      <td>gneE23</td>\n",
       "      <td>0.0</td>\n",
       "    </tr>\n",
       "    <tr>\n",
       "      <th>4</th>\n",
       "      <td>0.0</td>\n",
       "      <td>route_14</td>\n",
       "      <td>gneE22</td>\n",
       "      <td>0.0</td>\n",
       "    </tr>\n",
       "  </tbody>\n",
       "</table>\n",
       "</div>"
      ],
      "text/plain": [
       "   data_timestep vehicle_route vehicle_edge  vehicle_speed\n",
       "0            0.0       route_0        gneE0            0.0\n",
       "1            0.0       route_4        gneE5            0.0\n",
       "2            0.0      route_10       gneE10            0.0\n",
       "3            0.0      route_11       gneE23            0.0\n",
       "4            0.0      route_14       gneE22            0.0"
      ]
     },
     "metadata": {},
     "execution_count": 13
    }
   ],
   "metadata": {}
  },
  {
   "cell_type": "markdown",
   "source": [
    "# resultados por rota"
   ],
   "metadata": {}
  },
  {
   "cell_type": "code",
   "execution_count": 10,
   "source": [
    "malha.columns"
   ],
   "outputs": [
    {
     "output_type": "execute_result",
     "data": {
      "text/plain": [
       "Index(['id', 'name', 'priority', 'vmax', 'vmin'], dtype='object')"
      ]
     },
     "metadata": {},
     "execution_count": 10
    }
   ],
   "metadata": {}
  },
  {
   "cell_type": "markdown",
   "source": [
    "## Gráfico com a progressão da rota na simulação com a sobreposição da velocidade máxima e mínima esperada."
   ],
   "metadata": {}
  },
  {
   "cell_type": "code",
   "execution_count": 14,
   "source": [
    "col = malha.loc[: , 'vmax':'vmin']\n",
    "malha['mean'] = col.mean(axis=1)\n",
    "ax  = malha.plot(x='id', y='mean', c='red')\n",
    "plt.fill_between(x='id',y1='vmin',y2='vmax', data=malha)"
   ],
   "outputs": [
    {
     "output_type": "execute_result",
     "data": {
      "text/plain": [
       "<matplotlib.collections.PolyCollection at 0x1431b7e80>"
      ]
     },
     "metadata": {},
     "execution_count": 14
    },
    {
     "output_type": "display_data",
     "data": {
      "image/png": "[encoded data removed]",
      "text/plain": [
       "<Figure size 432x288 with 1 Axes>"
      ]
     },
     "metadata": {
      "needs_background": "light"
     }
    }
   ],
   "metadata": {}
  },
  {
   "cell_type": "code",
   "execution_count": 12,
   "source": [
    "malha.dtypes"
   ],
   "outputs": [
    {
     "output_type": "execute_result",
     "data": {
      "text/plain": [
       "id           object\n",
       "name         object\n",
       "priority      int64\n",
       "vmax        float64\n",
       "vmin        float64\n",
       "mean        float64\n",
       "dtype: object"
      ]
     },
     "metadata": {},
     "execution_count": 12
    }
   ],
   "metadata": {}
  }
 ],
 "metadata": {
  "orig_nbformat": 4,
  "language_info": {
   "name": "python",
   "version": "3.9.7",
   "mimetype": "text/x-python",
   "codemirror_mode": {
    "name": "ipython",
    "version": 3
   },
   "pygments_lexer": "ipython3",
   "nbconvert_exporter": "python",
   "file_extension": ".py"
  },
  "kernelspec": {
   "name": "python3",
   "display_name": "Python 3.9.7 64-bit ('base': conda)"
  },
  "interpreter": {
   "hash": "95ec9ec1504d83f612128e0fb229072f90bbb4cb09d9d5d93b5dd26e0ca2cfd1"
  }
 },
 "nbformat": 4,
 "nbformat_minor": 2
}