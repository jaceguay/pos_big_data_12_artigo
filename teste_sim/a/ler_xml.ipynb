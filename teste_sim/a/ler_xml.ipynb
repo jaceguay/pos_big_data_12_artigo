{
 "cells": [
  {
   "cell_type": "markdown",
   "source": [
    "## import xml.etree.ElementTree as ET"
   ],
   "metadata": {}
  },
  {
   "cell_type": "code",
   "execution_count": 71,
   "source": [
    "tree = ET.parse('rota_demanda.rou.xml')\n",
    "root = tree.getroot()\n",
    "print(root.attrib)\n"
   ],
   "outputs": [
    {
     "output_type": "stream",
     "name": "stdout",
     "text": [
      "{'{http://www.w3.org/2001/XMLSchema-instance}noNamespaceSchemaLocation': 'http://sumo.dlr.de/xsd/routes_file.xsd'}\n"
     ]
    }
   ],
   "metadata": {}
  },
  {
   "cell_type": "code",
   "execution_count": 72,
   "source": [
    "[elem.tag for elem in root.iter()]"
   ],
   "outputs": [
    {
     "output_type": "execute_result",
     "data": {
      "text/plain": [
       "['routes', 'vType', 'vType', 'route', 'flow', 'flow', 'flow']"
      ]
     },
     "metadata": {},
     "execution_count": 72
    }
   ],
   "metadata": {}
  },
  {
   "cell_type": "code",
   "execution_count": 73,
   "source": [
    "for child in root:\n",
    "    print(child.tag, child.attrib)\n"
   ],
   "outputs": [
    {
     "output_type": "stream",
     "name": "stdout",
     "text": [
      "vType {'id': 'vType_0'}\n",
      "vType {'id': 'veiculo_a', 'length': '4.80', 'maxSpeed': '40.00', 'accel': '1.6'}\n",
      "route {'edges': 'a b c', 'color': 'yellow', 'id': 'route_0'}\n",
      "flow {'id': 'flow_0', 'begin': '0.00', 'route': 'route_0', 'end': '3600.00', 'number': '1800'}\n",
      "flow {'id': 'flow_1', 'begin': '0.00', 'route': 'route_0', 'end': '3600.00', 'number': '1800'}\n",
      "flow {'id': 'flow_2', 'begin': '0.00', 'route': 'route_0', 'end': '3600.00', 'number': '1800'}\n"
     ]
    }
   ],
   "metadata": {}
  },
  {
   "cell_type": "code",
   "execution_count": 74,
   "source": [
    "for dados_xml in root.iter('flow'):\n",
    "    print(dados_xml.attrib)"
   ],
   "outputs": [
    {
     "output_type": "stream",
     "name": "stdout",
     "text": [
      "{'id': 'flow_0', 'begin': '0.00', 'route': 'route_0', 'end': '3600.00', 'number': '1800'}\n",
      "{'id': 'flow_1', 'begin': '0.00', 'route': 'route_0', 'end': '3600.00', 'number': '1800'}\n",
      "{'id': 'flow_2', 'begin': '0.00', 'route': 'route_0', 'end': '3600.00', 'number': '1800'}\n"
     ]
    }
   ],
   "metadata": {}
  },
  {
   "cell_type": "markdown",
   "source": [
    "## localizar"
   ],
   "metadata": {}
  },
  {
   "cell_type": "code",
   "execution_count": 75,
   "source": [
    "for dados in root.findall(\"flow\"):\n",
    "    print(dados.attrib)\n"
   ],
   "outputs": [
    {
     "output_type": "stream",
     "name": "stdout",
     "text": [
      "{'id': 'flow_0', 'begin': '0.00', 'route': 'route_0', 'end': '3600.00', 'number': '1800'}\n",
      "{'id': 'flow_1', 'begin': '0.00', 'route': 'route_0', 'end': '3600.00', 'number': '1800'}\n",
      "{'id': 'flow_2', 'begin': '0.00', 'route': 'route_0', 'end': '3600.00', 'number': '1800'}\n"
     ]
    }
   ],
   "metadata": {}
  },
  {
   "cell_type": "code",
   "execution_count": 76,
   "source": [
    "sensores_df = pd.read_xml('sensor_OUT.xml')\n",
    "print(xml_d_flow_0.attrib)"
   ],
   "outputs": [
    {
     "output_type": "stream",
     "name": "stdout",
     "text": [
      "{'id': 'flow_0', 'begin': '0.00', 'route': 'route_0', 'end': '3600.00', 'number': '2000'}\n"
     ]
    }
   ],
   "metadata": {}
  },
  {
   "cell_type": "markdown",
   "source": [
    "## modificar"
   ],
   "metadata": {}
  },
  {
   "cell_type": "code",
   "execution_count": 77,
   "source": [
    "xml_d_flow_0.attrib['number'] = '2000'\n",
    "print(xml_d_flow_0.attrib)"
   ],
   "outputs": [
    {
     "output_type": "stream",
     "name": "stdout",
     "text": [
      "{'id': 'flow_0', 'begin': '0.00', 'route': 'route_0', 'end': '3600.00', 'number': '2000'}\n"
     ]
    }
   ],
   "metadata": {}
  },
  {
   "cell_type": "markdown",
   "source": [
    "## gravar"
   ],
   "metadata": {}
  },
  {
   "cell_type": "code",
   "execution_count": 78,
   "source": [
    "import xml.etree.ElementTree as ET\n",
    "tree2 = ET.parse('rota_demanda_modificada.rou.xml')\n",
    "\n",
    "for child in tree2.getroot():\n",
    "    print(child.tag, child.attrib)"
   ],
   "outputs": [
    {
     "output_type": "stream",
     "name": "stdout",
     "text": [
      "vType {'id': 'vType_0'}\n",
      "vType {'id': 'veiculo_a', 'length': '4.80', 'maxSpeed': '40.00', 'accel': '1.6'}\n",
      "route {'edges': 'a b c', 'color': 'yellow', 'id': 'route_0'}\n",
      "flow {'id': 'flow_0', 'begin': '0.00', 'route': 'route_0', 'end': '3600.00', 'number': '2000'}\n",
      "flow {'id': 'flow_1', 'begin': '0.00', 'route': 'route_0', 'end': '3600.00', 'number': '1800'}\n",
      "flow {'id': 'flow_2', 'begin': '0.00', 'route': 'route_0', 'end': '3600.00', 'number': '1800'}\n"
     ]
    }
   ],
   "metadata": {}
  },
  {
   "cell_type": "markdown",
   "source": [
    "## resultados sensores, pandas"
   ],
   "metadata": {}
  },
  {
   "cell_type": "code",
   "execution_count": 79,
   "source": [
    "import xml.etree.ElementTree as ET\n"
   ],
   "outputs": [],
   "metadata": {}
  },
  {
   "cell_type": "code",
   "execution_count": 80,
   "source": [
    "sensores_df = pd.read_xml('sensor_OUT.xml')"
   ],
   "outputs": [],
   "metadata": {}
  },
  {
   "cell_type": "code",
   "execution_count": 81,
   "source": [
    "sensores_df.head()"
   ],
   "outputs": [
    {
     "output_type": "execute_result",
     "data": {
      "text/plain": [
       "    begin     end   id  nVehContrib    flow  occupancy  speed  \\\n",
       "0     0.0   600.0  1_D          195  1170.0      13.41  12.22   \n",
       "1     0.0   600.0  1_I            1     6.0       0.06  14.44   \n",
       "2   600.0  1200.0  1_D          194  1164.0      13.43  12.19   \n",
       "3   600.0  1200.0  1_I            6    36.0       0.37  13.49   \n",
       "4  1200.0  1800.0  1_D          195  1170.0      13.32  12.34   \n",
       "\n",
       "   harmonicMeanSpeed  length  nVehEntered  \n",
       "0              12.12     5.0          195  \n",
       "1              14.44     5.0            1  \n",
       "2              12.04     5.0          194  \n",
       "3              13.44     5.0            6  \n",
       "4              12.20     5.0          195  "
      ],
      "text/html": [
       "<div>\n",
       "<style scoped>\n",
       "    .dataframe tbody tr th:only-of-type {\n",
       "        vertical-align: middle;\n",
       "    }\n",
       "\n",
       "    .dataframe tbody tr th {\n",
       "        vertical-align: top;\n",
       "    }\n",
       "\n",
       "    .dataframe thead th {\n",
       "        text-align: right;\n",
       "    }\n",
       "</style>\n",
       "<table border=\"1\" class=\"dataframe\">\n",
       "  <thead>\n",
       "    <tr style=\"text-align: right;\">\n",
       "      <th></th>\n",
       "      <th>begin</th>\n",
       "      <th>end</th>\n",
       "      <th>id</th>\n",
       "      <th>nVehContrib</th>\n",
       "      <th>flow</th>\n",
       "      <th>occupancy</th>\n",
       "      <th>speed</th>\n",
       "      <th>harmonicMeanSpeed</th>\n",
       "      <th>length</th>\n",
       "      <th>nVehEntered</th>\n",
       "    </tr>\n",
       "  </thead>\n",
       "  <tbody>\n",
       "    <tr>\n",
       "      <th>0</th>\n",
       "      <td>0.0</td>\n",
       "      <td>600.0</td>\n",
       "      <td>1_D</td>\n",
       "      <td>195</td>\n",
       "      <td>1170.0</td>\n",
       "      <td>13.41</td>\n",
       "      <td>12.22</td>\n",
       "      <td>12.12</td>\n",
       "      <td>5.0</td>\n",
       "      <td>195</td>\n",
       "    </tr>\n",
       "    <tr>\n",
       "      <th>1</th>\n",
       "      <td>0.0</td>\n",
       "      <td>600.0</td>\n",
       "      <td>1_I</td>\n",
       "      <td>1</td>\n",
       "      <td>6.0</td>\n",
       "      <td>0.06</td>\n",
       "      <td>14.44</td>\n",
       "      <td>14.44</td>\n",
       "      <td>5.0</td>\n",
       "      <td>1</td>\n",
       "    </tr>\n",
       "    <tr>\n",
       "      <th>2</th>\n",
       "      <td>600.0</td>\n",
       "      <td>1200.0</td>\n",
       "      <td>1_D</td>\n",
       "      <td>194</td>\n",
       "      <td>1164.0</td>\n",
       "      <td>13.43</td>\n",
       "      <td>12.19</td>\n",
       "      <td>12.04</td>\n",
       "      <td>5.0</td>\n",
       "      <td>194</td>\n",
       "    </tr>\n",
       "    <tr>\n",
       "      <th>3</th>\n",
       "      <td>600.0</td>\n",
       "      <td>1200.0</td>\n",
       "      <td>1_I</td>\n",
       "      <td>6</td>\n",
       "      <td>36.0</td>\n",
       "      <td>0.37</td>\n",
       "      <td>13.49</td>\n",
       "      <td>13.44</td>\n",
       "      <td>5.0</td>\n",
       "      <td>6</td>\n",
       "    </tr>\n",
       "    <tr>\n",
       "      <th>4</th>\n",
       "      <td>1200.0</td>\n",
       "      <td>1800.0</td>\n",
       "      <td>1_D</td>\n",
       "      <td>195</td>\n",
       "      <td>1170.0</td>\n",
       "      <td>13.32</td>\n",
       "      <td>12.34</td>\n",
       "      <td>12.20</td>\n",
       "      <td>5.0</td>\n",
       "      <td>195</td>\n",
       "    </tr>\n",
       "  </tbody>\n",
       "</table>\n",
       "</div>"
      ]
     },
     "metadata": {},
     "execution_count": 81
    }
   ],
   "metadata": {}
  }
 ],
 "metadata": {
  "orig_nbformat": 4,
  "language_info": {
   "name": "python",
   "version": "3.9.6",
   "mimetype": "text/x-python",
   "codemirror_mode": {
    "name": "ipython",
    "version": 3
   },
   "pygments_lexer": "ipython3",
   "nbconvert_exporter": "python",
   "file_extension": ".py"
  },
  "kernelspec": {
   "name": "python3",
   "display_name": "Python 3.9.6 64-bit ('base': conda)"
  },
  "interpreter": {
   "hash": "95ec9ec1504d83f612128e0fb229072f90bbb4cb09d9d5d93b5dd26e0ca2cfd1"
  }
 },
 "nbformat": 4,
 "nbformat_minor": 2
}