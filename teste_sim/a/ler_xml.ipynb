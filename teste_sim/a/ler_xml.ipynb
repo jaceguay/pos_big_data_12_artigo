{
 "cells": [
  {
   "cell_type": "markdown",
   "source": [
    "## pandas"
   ],
   "metadata": {}
  },
  {
   "cell_type": "code",
   "execution_count": 16,
   "source": [
    "import pandas as pd"
   ],
   "outputs": [],
   "metadata": {}
  },
  {
   "cell_type": "code",
   "execution_count": 17,
   "source": [
    "demanda_df = pd.read_xml('rota_demanda.rou.xml')"
   ],
   "outputs": [],
   "metadata": {}
  },
  {
   "cell_type": "code",
   "execution_count": 18,
   "source": [
    "demanda_df.head()"
   ],
   "outputs": [
    {
     "output_type": "execute_result",
     "data": {
      "text/plain": [
       "          id  length  maxSpeed  accel  edges   color  begin    route     end  \\\n",
       "0    vType_0     NaN       NaN    NaN   None    None    NaN     None     NaN   \n",
       "1  veiculo_a     4.8      40.0    1.6   None    None    NaN     None     NaN   \n",
       "2    route_0     NaN       NaN    NaN  a b c  yellow    NaN     None     NaN   \n",
       "3     flow_0     NaN       NaN    NaN   None    None    0.0  route_0  3600.0   \n",
       "4     flow_1     NaN       NaN    NaN   None    None    0.0  route_0  3600.0   \n",
       "\n",
       "   number  \n",
       "0     NaN  \n",
       "1     NaN  \n",
       "2     NaN  \n",
       "3  1800.0  \n",
       "4  1800.0  "
      ],
      "text/html": [
       "<div>\n",
       "<style scoped>\n",
       "    .dataframe tbody tr th:only-of-type {\n",
       "        vertical-align: middle;\n",
       "    }\n",
       "\n",
       "    .dataframe tbody tr th {\n",
       "        vertical-align: top;\n",
       "    }\n",
       "\n",
       "    .dataframe thead th {\n",
       "        text-align: right;\n",
       "    }\n",
       "</style>\n",
       "<table border=\"1\" class=\"dataframe\">\n",
       "  <thead>\n",
       "    <tr style=\"text-align: right;\">\n",
       "      <th></th>\n",
       "      <th>id</th>\n",
       "      <th>length</th>\n",
       "      <th>maxSpeed</th>\n",
       "      <th>accel</th>\n",
       "      <th>edges</th>\n",
       "      <th>color</th>\n",
       "      <th>begin</th>\n",
       "      <th>route</th>\n",
       "      <th>end</th>\n",
       "      <th>number</th>\n",
       "    </tr>\n",
       "  </thead>\n",
       "  <tbody>\n",
       "    <tr>\n",
       "      <th>0</th>\n",
       "      <td>vType_0</td>\n",
       "      <td>NaN</td>\n",
       "      <td>NaN</td>\n",
       "      <td>NaN</td>\n",
       "      <td>None</td>\n",
       "      <td>None</td>\n",
       "      <td>NaN</td>\n",
       "      <td>None</td>\n",
       "      <td>NaN</td>\n",
       "      <td>NaN</td>\n",
       "    </tr>\n",
       "    <tr>\n",
       "      <th>1</th>\n",
       "      <td>veiculo_a</td>\n",
       "      <td>4.8</td>\n",
       "      <td>40.0</td>\n",
       "      <td>1.6</td>\n",
       "      <td>None</td>\n",
       "      <td>None</td>\n",
       "      <td>NaN</td>\n",
       "      <td>None</td>\n",
       "      <td>NaN</td>\n",
       "      <td>NaN</td>\n",
       "    </tr>\n",
       "    <tr>\n",
       "      <th>2</th>\n",
       "      <td>route_0</td>\n",
       "      <td>NaN</td>\n",
       "      <td>NaN</td>\n",
       "      <td>NaN</td>\n",
       "      <td>a b c</td>\n",
       "      <td>yellow</td>\n",
       "      <td>NaN</td>\n",
       "      <td>None</td>\n",
       "      <td>NaN</td>\n",
       "      <td>NaN</td>\n",
       "    </tr>\n",
       "    <tr>\n",
       "      <th>3</th>\n",
       "      <td>flow_0</td>\n",
       "      <td>NaN</td>\n",
       "      <td>NaN</td>\n",
       "      <td>NaN</td>\n",
       "      <td>None</td>\n",
       "      <td>None</td>\n",
       "      <td>0.0</td>\n",
       "      <td>route_0</td>\n",
       "      <td>3600.0</td>\n",
       "      <td>1800.0</td>\n",
       "    </tr>\n",
       "    <tr>\n",
       "      <th>4</th>\n",
       "      <td>flow_1</td>\n",
       "      <td>NaN</td>\n",
       "      <td>NaN</td>\n",
       "      <td>NaN</td>\n",
       "      <td>None</td>\n",
       "      <td>None</td>\n",
       "      <td>0.0</td>\n",
       "      <td>route_0</td>\n",
       "      <td>3600.0</td>\n",
       "      <td>1800.0</td>\n",
       "    </tr>\n",
       "  </tbody>\n",
       "</table>\n",
       "</div>"
      ]
     },
     "metadata": {},
     "execution_count": 18
    }
   ],
   "metadata": {}
  },
  {
   "cell_type": "markdown",
   "source": [
    "## import xml.etree.ElementTree as ET"
   ],
   "metadata": {}
  },
  {
   "cell_type": "code",
   "execution_count": 19,
   "source": [
    "import xml.etree.ElementTree as ET"
   ],
   "outputs": [],
   "metadata": {}
  },
  {
   "cell_type": "code",
   "execution_count": 20,
   "source": [
    "tree = ET.parse('rota_demanda.rou.xml')\n",
    "root = tree.getroot()"
   ],
   "outputs": [],
   "metadata": {}
  },
  {
   "cell_type": "code",
   "execution_count": 21,
   "source": [
    "import pandas as pd\n"
   ],
   "outputs": [
    {
     "output_type": "stream",
     "name": "stdout",
     "text": [
      "{'{http://www.w3.org/2001/XMLSchema-instance}noNamespaceSchemaLocation': 'http://sumo.dlr.de/xsd/routes_file.xsd'}\n"
     ]
    }
   ],
   "metadata": {}
  },
  {
   "cell_type": "code",
   "execution_count": 22,
   "source": [
    "demanda_df = pd.read_xml('rota_demanda.rou.xml')\n"
   ],
   "outputs": [
    {
     "output_type": "stream",
     "name": "stdout",
     "text": [
      "<?xml version='1.0' encoding='utf8'?>\n",
      "<routes xmlns:xsi=\"http://www.w3.org/2001/XMLSchema-instance\" xsi:noNamespaceSchemaLocation=\"http://sumo.dlr.de/xsd/routes_file.xsd\">\n",
      "    <vType id=\"vType_0\" />\n",
      "    <vType id=\"veiculo_a\" length=\"4.80\" maxSpeed=\"40.00\" accel=\"1.6\" />\n",
      "    <route edges=\"a b c\" color=\"yellow\" id=\"route_0\" />\n",
      "    <flow id=\"flow_0\" begin=\"0.00\" route=\"route_0\" end=\"3600.00\" number=\"1800\" />\n",
      "    <flow id=\"flow_1\" begin=\"0.00\" route=\"route_0\" end=\"3600.00\" number=\"1800\" />\n",
      "    <flow id=\"flow_2\" begin=\"0.00\" route=\"route_0\" end=\"3600.00\" number=\"1800\" />\n",
      "</routes>\n"
     ]
    }
   ],
   "metadata": {}
  },
  {
   "cell_type": "code",
   "execution_count": 23,
   "source": [
    "for child in root:\n",
    "    print(child.tag, child.attrib)\n"
   ],
   "outputs": [
    {
     "output_type": "stream",
     "name": "stdout",
     "text": [
      "vType {'id': 'vType_0'}\n",
      "vType {'id': 'veiculo_a', 'length': '4.80', 'maxSpeed': '40.00', 'accel': '1.6'}\n",
      "route {'edges': 'a b c', 'color': 'yellow', 'id': 'route_0'}\n",
      "flow {'id': 'flow_0', 'begin': '0.00', 'route': 'route_0', 'end': '3600.00', 'number': '1800'}\n",
      "flow {'id': 'flow_1', 'begin': '0.00', 'route': 'route_0', 'end': '3600.00', 'number': '1800'}\n",
      "flow {'id': 'flow_2', 'begin': '0.00', 'route': 'route_0', 'end': '3600.00', 'number': '1800'}\n"
     ]
    }
   ],
   "metadata": {}
  },
  {
   "cell_type": "code",
   "execution_count": 32,
   "source": [
    "[elem.tag for elem in root.iter()]"
   ],
   "outputs": [
    {
     "output_type": "execute_result",
     "data": {
      "text/plain": [
       "['routes', 'vType', 'vType', 'route', 'flow', 'flow', 'flow']"
      ]
     },
     "metadata": {},
     "execution_count": 32
    }
   ],
   "metadata": {}
  },
  {
   "cell_type": "code",
   "execution_count": 33,
   "source": [
    "for dados_xml in root.iter('flow'):\n",
    "    print(dados_xml.attrib)"
   ],
   "outputs": [
    {
     "output_type": "stream",
     "name": "stdout",
     "text": [
      "{'id': 'flow_0', 'begin': '0.00', 'route': 'route_0', 'end': '3600.00', 'number': '1800'}\n",
      "{'id': 'flow_1', 'begin': '0.00', 'route': 'route_0', 'end': '3600.00', 'number': '1800'}\n",
      "{'id': 'flow_2', 'begin': '0.00', 'route': 'route_0', 'end': '3600.00', 'number': '1800'}\n"
     ]
    }
   ],
   "metadata": {}
  },
  {
   "cell_type": "code",
   "execution_count": 43,
   "source": [
    "for dados in root.findall(\"flow\"):\n",
    "    print(dados.attrib)\n"
   ],
   "outputs": [
    {
     "output_type": "stream",
     "name": "stdout",
     "text": [
      "{'id': 'flow_0', 'begin': '0.00', 'route': 'route_0', 'end': '3600.00', 'number': '1800'}\n",
      "{'id': 'flow_1', 'begin': '0.00', 'route': 'route_0', 'end': '3600.00', 'number': '1800'}\n",
      "{'id': 'flow_2', 'begin': '0.00', 'route': 'route_0', 'end': '3600.00', 'number': '1800'}\n"
     ]
    }
   ],
   "metadata": {}
  },
  {
   "cell_type": "code",
   "execution_count": null,
   "source": [
    "flow_0_xml = root.find(\"flow/[@id='flow_0']\")\n"
   ],
   "outputs": [],
   "metadata": {}
  }
 ],
 "metadata": {
  "orig_nbformat": 4,
  "language_info": {
   "name": "python",
   "version": "3.9.6",
   "mimetype": "text/x-python",
   "codemirror_mode": {
    "name": "ipython",
    "version": 3
   },
   "pygments_lexer": "ipython3",
   "nbconvert_exporter": "python",
   "file_extension": ".py"
  },
  "kernelspec": {
   "name": "python3",
   "display_name": "Python 3.9.6 64-bit ('base': conda)"
  },
  "interpreter": {
   "hash": "95ec9ec1504d83f612128e0fb229072f90bbb4cb09d9d5d93b5dd26e0ca2cfd1"
  }
 },
 "nbformat": 4,
 "nbformat_minor": 2
}